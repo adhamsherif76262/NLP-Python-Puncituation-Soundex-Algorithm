{
  "nbformat": 4,
  "nbformat_minor": 0,
  "metadata": {
    "colab": {
      "provenance": []
    },
    "kernelspec": {
      "name": "python3",
      "display_name": "Python 3"
    },
    "language_info": {
      "name": "python"
    }
  },
  "cells": [
    {
      "cell_type": "code",
      "source": [
        "my_str = str(input(\" Please Enter the String You Wish To Puncituate ::\\n\\n\\t\\t\\t\"))\n",
        "\n",
        "dictionary = {'!()-[]{;}:\\,<\"\">.1234567890/?@#$%^&*_~+=_|`“' : ''}\n",
        "\n",
        "no_punct = \"\"\n",
        "\n",
        "for char in my_str[0:]: \n",
        "\n",
        "  for key in dictionary.keys(): \n",
        "\n",
        "    if char not in key:\n",
        "\n",
        "      if char not in dictionary.keys():  \n",
        "\n",
        "           no_punct = no_punct + char\n",
        "        \n",
        "#\"Think and Wonder , Wonder and THink 2236 . !@#$%^&*()\"\n",
        "\n",
        "print(\"\\nYour string After Puncituation will be:\")\n",
        "\n",
        "print(no_punct.lower())\n"
      ],
      "metadata": {
        "id": "hlQrh_jiOgzH",
        "colab": {
          "base_uri": "https://localhost:8080/"
        },
        "outputId": "51f39e01-e452-445e-9c5f-a09e0ab10bf5"
      },
      "execution_count": 27,
      "outputs": [
        {
          "output_type": "stream",
          "name": "stdout",
          "text": [
            " Please Enter the String You Wish To Puncituate ::\n",
            "\n",
            "\t\t\t\"Think and Wonder , Wonder and THink 2236 . !@#$%^&*()\"666666*&^%$%^&*(++=-_|||||`\n",
            "\n",
            "Your string After Puncituation will be:\n",
            "think and wonder  wonder and think   \n"
          ]
        }
      ]
    }
  ]
}