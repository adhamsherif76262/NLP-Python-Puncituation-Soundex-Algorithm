{
  "nbformat": 4,
  "nbformat_minor": 0,
  "metadata": {
    "colab": {
      "provenance": []
    },
    "kernelspec": {
      "name": "python3",
      "display_name": "Python 3"
    },
    "language_info": {
      "name": "python"
    }
  },
  "cells": [
    {
      "cell_type": "code",
      "execution_count": 5,
      "metadata": {
        "colab": {
          "base_uri": "https://localhost:8080/"
        },
        "id": "Nvvsf-eVaZcH",
        "outputId": "5a0ab91a-0d1b-4dde-f818-5e00b3b9de5a"
      },
      "outputs": [
        {
          "output_type": "stream",
          "name": "stdout",
          "text": [
            " Please Enter the String You Wish To Apply The Soundex Algorithm On ::\n",
            "\n",
            "\t\t\tHerman\n",
            "H655\n"
          ]
        }
      ],
      "source": [
        "token = str(input(\" Please Enter the String You Wish To Apply The Soundex Algorithm On ::\\n\\n\\t\\t\\t\"))\n",
        "\n",
        "token = token.upper()  \n",
        "\n",
        "soundex = \"\" \n",
        "\n",
        "soundex += token[0] \n",
        "\n",
        "dictionary = {\"BFPV\": \"1\", \"CGJKQSXZ\": \"2\",\"DT\": \"3\",\"L\": \"4\", \"MN\": \"5\", \"R\": \"6\",\"AEIOUHWY\": \".\"}  \n",
        "\n",
        "for char in token[1:]: \n",
        "\n",
        "  for key in dictionary.keys(): \n",
        "\n",
        "    if char in key:  \n",
        "\n",
        "      code = dictionary[key]  \n",
        "\n",
        "      if code != '.': \n",
        "\n",
        "        soundex += code \n",
        "\n",
        "print (soundex)"
      ]
    }
  ]
}